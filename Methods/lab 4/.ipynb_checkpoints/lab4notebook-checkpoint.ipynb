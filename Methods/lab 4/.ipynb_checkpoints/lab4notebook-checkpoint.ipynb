{
 "cells": [
  {
   "cell_type": "markdown",
   "metadata": {},
   "source": [
    "\\begin{center}\n",
    "    \\Large\n",
    "    \\textbf{Задача 1}\n",
    "\\end{center}\n",
    "\\begin{align*}\n",
    "    y = x^2+6x+8-2^{x+2}\n",
    "\\end{align*}\n",
    "Виберемо відрізок інтерполяції [-6;0], та виберемо 4 вузли, відстань між якими буде однаковою $x_1 = -6, x_2 = -4, x_3 = -2, x_4 = 0$\n",
    "Знайдемо значення функції в цих точках:"
   ]
  },
  {
   "cell_type": "code",
   "execution_count": 23,
   "metadata": {},
   "outputs": [],
   "source": [
    "import numpy as np\n",
    "\n",
    "def func1(x):\n",
    "    \"\"\"func1(x)=x^2+6x+8-2^{x+2}\"\"\"\n",
    "    return x**2 + 6*x + 8 - 2 * np.exp(x+2)\n",
    "\n",
    "data_points = [-6, -4, -2, 0]\n",
    "func1_values = [func1(x) for x in data_points]"
   ]
  },
  {
   "cell_type": "markdown",
   "metadata": {},
   "source": [
    "Знайдемо тепер різниці всіх порядків:"
   ]
  },
  {
   "cell_type": "code",
   "execution_count": 21,
   "metadata": {
    "pycharm": {
     "name": "#%%\n"
    }
   },
   "outputs": [
    {
     "name": "stdout",
     "output_type": "stream",
     "text": [
      "[[-8.234039288695756, -1.7293294335267746, -4.778112197861301], [6.504709855168982, -3.0487827643345264], [-9.553492619503508]]\n"
     ]
    }
   ],
   "source": [
    "def find_differences(func_values, lst=[]):\n",
    "    \"\"\"Finds differences of all orders, returns a list with lists of each order's differences\"\"\"\n",
    "    if len(func_values) > 1:\n",
    "        func_values = func_values.copy()\n",
    "        # Find all deltas(differences) of current order and store them in a list\n",
    "        deltas = []\n",
    "        for i in range(len(func_values) - 1):\n",
    "            deltas.append(func_values[i + 1] - func_values[i])\n",
    "        lst.append(deltas)\n",
    "        # Recursively find differences of all higher orders\n",
    "        return find_differences(deltas, lst)\n",
    "    else:\n",
    "        return lst\n",
    "a = find_differences(func1_values)\n",
    "print(a)\n"
   ]
  },
  {
   "cell_type": "markdown",
   "metadata": {},
   "source": []
  },
  {
   "cell_type": "code",
   "execution_count": 22,
   "metadata": {
    "pycharm": {
     "name": "#%%\n"
    }
   },
   "outputs": [
    {
     "ename": "SyntaxError",
     "evalue": "invalid syntax (3418371708.py, line 1)",
     "output_type": "error",
     "traceback": [
      "\u001b[0;36m  Input \u001b[0;32mIn [22]\u001b[0;36m\u001b[0m\n\u001b[0;31m    for i in range(len(data_points))\u001b[0m\n\u001b[0m                                    ^\u001b[0m\n\u001b[0;31mSyntaxError\u001b[0m\u001b[0;31m:\u001b[0m invalid syntax\n"
     ]
    }
   ],
   "source": [
    "for i in range(len(data_points))"
   ]
  }
 ],
 "metadata": {
  "kernelspec": {
   "display_name": "Python 3 (ipykernel)",
   "language": "python",
   "name": "python3"
  },
  "language_info": {
   "codemirror_mode": {
    "name": "ipython",
    "version": 3
   },
   "file_extension": ".py",
   "mimetype": "text/x-python",
   "name": "python",
   "nbconvert_exporter": "python",
   "pygments_lexer": "ipython3",
   "version": "3.8.10"
  }
 },
 "nbformat": 4,
 "nbformat_minor": 1
}
