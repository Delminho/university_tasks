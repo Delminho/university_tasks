{
 "cells": [
  {
   "cell_type": "markdown",
   "metadata": {
    "pycharm": {
     "name": "#%% md\n"
    }
   },
   "source": [
    "## Задача 1\n",
    "\n",
    "$$\n",
    "\\begin{cases}\n",
    "\\cos{(x+0.5)} - y = 2 \\\\\n",
    "\\sin{y} - 2x = 1\n",
    "\\end{cases}\n",
    "$$\n",
    "\n",
    "Побудуємо графіки цих функцій"
   ]
  },
  {
   "cell_type": "code",
   "execution_count": 185,
   "metadata": {
    "pycharm": {
     "name": "#%%\n"
    }
   },
   "outputs": [
    {
     "data": {
      "image/png": "[encoded data removed]",
      "text/plain": [
       "<Figure size 432x288 with 1 Axes>"
      ]
     },
     "metadata": {
      "needs_background": "light"
     },
     "output_type": "display_data"
    }
   ],
   "source": [
    "import numpy as np\n",
    "import matplotlib.pyplot as plt\n",
    "\n",
    "x = np.linspace(-7, 7, 100)\n",
    "y1 = np.cos(x + 0.5) - 2\n",
    "y= np.linspace(-7,7,100)\n",
    "x2 = 0.5 * (np.sin(y) - 1)\n",
    "\n",
    "plt.plot(x,y1)\n",
    "plt.plot(x2, y)\n",
    "plt.savefig('plot.png', dpi=500)\n",
    "plt.show()"
   ]
  },
  {
   "cell_type": "markdown",
   "metadata": {},
   "source": [
    "Бачимо, що перетин кривих є близьким до точки (-1,-1), отже її і візьмемо як початкове наближення"
   ]
  },
  {
   "cell_type": "markdown",
   "metadata": {},
   "source": [
    "Запишемо систему у вигляді $\n",
    "\\begin{cases}\n",
    "x = \\frac12 (\\sin{y}-1)\\\\\n",
    "y=\\cos{(x+0.5)} - 2\n",
    "\\end{cases}\n",
    "$, отже$ \\vec{x} =\n",
    "\\begin{pmatrix}\n",
    "x \\\\ y\n",
    "\\end{pmatrix} =\n",
    "\\begin{pmatrix}\n",
    "\\frac12 (\\sin{y}-1) \\\\\n",
    "\\cos{(x+0.5)} - 2\n",
    "\\end{pmatrix} = \\Phi(\\vec{x})\n",
    "$"
   ]
  },
  {
   "cell_type": "code",
   "execution_count": 186,
   "metadata": {
    "pycharm": {
     "name": "#%%\n"
    }
   },
   "outputs": [],
   "source": [
    "from scipy.optimize import fsolve\n",
    "import pandas as pd\n",
    "\n",
    "def phi_1(x_vec):\n",
    "    \"\"\"Takes (x,y) vector and returns 0.5(sin(y)-1)\"\"\"\n",
    "    (x,y) = x_vec\n",
    "    return 0.5 * (np.sin(y) - 1)\n",
    "\n",
    "def phi_2(x_vec):\n",
    "    \"\"\"Takes (x,y) vector and returns cos(x + 0.5) - 2\"\"\"\n",
    "    (x,y) = x_vec\n",
    "    return np.cos(x+0.5) - 2\n",
    "\n",
    "def iterative_solve(Phi_vec, starting_value_vec, epsilon=0.00001, print_table = False):\n",
    "    \"\"\"Takes vector-function Ф and starting value, solves x=Ф(x) equation, returns x vector and print latex code table if chosen to\"\"\"\n",
    "    df = pd.DataFrame({\"x\": [starting_value_vec[0]], \"y\": [starting_value_vec[1]], \"delta\": [\" \"]})\n",
    "    prev_x_vec = starting_value_vec.copy()\n",
    "    current_x_vec = [None,None]\n",
    "    iteration = 0\n",
    "    while True:\n",
    "        iteration += 1\n",
    "        for i in range(len(prev_x_vec)):\n",
    "            current_x_vec[i] = Phi_vec[i](prev_x_vec)\n",
    "        delta = max([abs(x) for x in np.subtract(prev_x_vec, current_x_vec)])\n",
    "\n",
    "        df.loc[iteration] = [current_x_vec[0], current_x_vec[1], delta]\n",
    "        if delta < epsilon:\n",
    "            if print_table:\n",
    "                print(df.style.to_latex())\n",
    "            return current_x_vec\n",
    "        else:\n",
    "            prev_x_vec = current_x_vec.copy()\n",
    "\n",
    "\n",
    "Phi_vector = [phi_1, phi_2]\n",
    "# x = iterative_solve(Phi_vector, [-1,-1], print_table=True)\n",
    "# print(iterative_solve(Phi_vector, [5, 100]))\n",
    "# print(iterative_solve(Phi_vector, [0, 0]))\n",
    "# print(iterative_solve(Phi_vector, [500, -500], print_table=True))\n"
   ]
  },
  {
   "cell_type": "markdown",
   "metadata": {
    "pycharm": {
     "name": "#%% md\n"
    }
   },
   "source": [
    "\\begin{array}{lrrl}\n",
    "Iter & x & y & \\Delta \\\\\n",
    "0 & -1.000000 & -1.000000 &   \\\\\n",
    "1 & -0.920735 & -1.122417 & 0.122417 \\\\\n",
    "2 & -0.950576 & -1.087211 & 0.035206 \\\\\n",
    "3 & -0.942667 & -1.099803 & 0.012592 \\\\\n",
    "4 & -0.945559 & -1.096387 & 0.003416 \\\\\n",
    "5 & -0.944781 & -1.097630 & 0.001243 \\\\\n",
    "6 & -0.945065 & -1.097295 & 0.000335 \\\\\n",
    "7 & -0.944989 & -1.097417 & 0.000122 \\\\\n",
    "8 & -0.945016 & -1.097384 & 0.000033 \\\\\n",
    "9 & -0.945009 & -1.097396 & 0.000012 \\\\\n",
    "10 & -0.945012 & -1.097393 & 0.000003 \\\\\n",
    "\\end{array}\n",
    "\n"
   ]
  },
  {
   "cell_type": "markdown",
   "metadata": {},
   "source": [
    "Напишемо функцію, щоб записувати нецілі числа з 5 знаками після коми (більше нам не потрібно, оскільки точність 0.00001)"
   ]
  },
  {
   "cell_type": "code",
   "execution_count": 187,
   "metadata": {
    "pycharm": {
     "name": "#%%\n"
    }
   },
   "outputs": [],
   "source": [
    "def format_float(flt):\n",
    "    \"\"\"Function to format floats so only 5 digits after decimal is shown\"\"\"\n",
    "    if flt is int:\n",
    "        return flt\n",
    "    else:\n",
    "        return float(\"{:.5f}\".format(flt))"
   ]
  },
  {
   "cell_type": "markdown",
   "metadata": {},
   "source": [
    "Перевіримо наш розв'язок використовуючи fsolve() з scipy.optimize, та порахувавши $\\vec{x} - \\Phi(\\vec{x})$"
   ]
  },
  {
   "cell_type": "code",
   "execution_count": 188,
   "metadata": {
    "pycharm": {
     "name": "#%%\n"
    }
   },
   "outputs": [
    {
     "name": "stdout",
     "output_type": "stream",
     "text": [
      "SciPy result: [-0.94501, -1.09739]\n",
      "Our result: [-0.94501, -1.09739]\n",
      "x-Ф(x): [-0.0, 0.0]\n"
     ]
    }
   ],
   "source": [
    "def F1(x_vec):\n",
    "    (x, y) = x_vec\n",
    "    f1 = 0.5 * (np.sin(y) - 1) - x\n",
    "    f2 = np.cos(x+0.5) - 2 - y\n",
    "    return [f1, f2]\n",
    "\n",
    "\n",
    "result = fsolve(F1, (-1, -1))\n",
    "print(\"SciPy result:\", [format_float(num) for num in result])\n",
    "\n",
    "x = iterative_solve(Phi_vector, [-1,-1])\n",
    "print(\"Our result:\", [format_float(num) for num in x])\n",
    "x_minus_Phi = np.subtract(x, [Phi_vector[0](x), Phi_vector[1](x)])\n",
    "print(\"x-Ф(x):\", [format_float(num) for num in x_minus_Phi])"
   ]
  },
  {
   "cell_type": "markdown",
   "metadata": {
    "pycharm": {
     "name": "#%% md\n"
    }
   },
   "source": [
    "Бачимо, що з точністю до $\\varepsilon$ наш розв'язок рівний розв'язку fsolve(), та $\\vec{x} - \\Phi(\\vec{x}) = \\vec{0}$"
   ]
  },
  {
   "cell_type": "markdown",
   "metadata": {
    "pycharm": {
     "name": "#%% md\n"
    }
   },
   "source": [
    "## Задача 2\n",
    "\n",
    "$$\n",
    "\\begin{cases}\n",
    "tg(xy) = x^2 \\\\\n",
    "0.7x^2 + 2y^2 = 1\n",
    "\\end{cases}\n",
    "$$\n",
    "Для початку побудуємо графік"
   ]
  },
  {
   "cell_type": "code",
   "execution_count": 189,
   "metadata": {
    "pycharm": {
     "name": "#%%\n"
    }
   },
   "outputs": [
    {
     "data": {
      "image/png": "[encoded data removed]",
      "text/plain": [
       "<Figure size 432x288 with 1 Axes>"
      ]
     },
     "metadata": {
      "needs_background": "light"
     },
     "output_type": "display_data"
    }
   ],
   "source": [
    "x = np.linspace(-1.195, 1.195, 120)\n",
    "y1 = np.arctan(x**2)/x\n",
    "y= np.linspace(-1.2,1.2,120)\n",
    "x2 = 0*x\n",
    "y3 = np.sqrt(1-0.7*x**2) / np.sqrt(2)\n",
    "y4 = -y3\n",
    "\n",
    "plt.plot(x,y1, color=\"green\")\n",
    "plt.plot(x2, y, color=\"green\")\n",
    "plt.plot(x,y3, color=\"orange\")\n",
    "plt.plot(x,y4, color=\"orange\")\n",
    "plt.savefig(\"plot2.png\", dpi=500)\n",
    "plt.show()\n"
   ]
  },
  {
   "cell_type": "markdown",
   "metadata": {},
   "source": [
    "Бачимо що система має 4 розв'язки, в точках, близьких до (0.6,0.6), (0,0.7), (-0.6,-0.6), (0,-0.7).Саме такі точки будемо брати як початкове наближення.\n",
    "Знайдемо тепер матрицю Якобі та матрицю F\n",
    "$$\n",
    "W = \\begin{pmatrix}\n",
    "    \\frac{\\partial f_1}{\\partial x} & \\frac{\\partial f_1}{\\partial y} \\\\\n",
    "    \\frac{\\partial f_2}{\\partial x} & \\frac{\\partial f_2}{\\partial y}\n",
    "\\end{pmatrix} =\n",
    "\\begin{pmatrix}\n",
    "    \\frac{y}{\\cos^2(xy)} - 2x & \\frac{x}{\\cos^2(xy)} \\\\\n",
    "    1.4x & 4y\n",
    "\\end{pmatrix}\n",
    "$$\n",
    "$$\n",
    "F = \\begin{pmatrix}\n",
    "    tg(xy) - x^2 \\\\\n",
    "    0.7x^2+2y^2-1\n",
    "\\end{pmatrix}\n",
    "$$\n",
    "Далі шукаємо розв'язок використовуючи ітераційну формулу $x^{(k+1)} = x^{(k)}-W^{-1}(x^{(0)}) \\cdot F\\left(x^{(k)}\\right)$"
   ]
  },
  {
   "cell_type": "code",
   "execution_count": 190,
   "metadata": {
    "pycharm": {
     "name": "#%%\n"
    }
   },
   "outputs": [
    {
     "name": "stdout",
     "output_type": "stream",
     "text": [
      "\\begin{tabular}{lrrl}\n",
      " & x & y & delta \\\\\n",
      "0 & 0.600000 & 0.600000 &   \\\\\n",
      "1 & 0.632322 & 0.600354 & 0.032322 \\\\\n",
      "2 & 0.630903 & 0.600546 & 0.001419 \\\\\n",
      "3 & 0.631037 & 0.600525 & 0.000134 \\\\\n",
      "4 & 0.631024 & 0.600527 & 0.000013 \\\\\n",
      "5 & 0.631025 & 0.600527 & 0.000001 \\\\\n",
      "\\end{tabular}\n",
      "\n",
      "[0.63102545 0.6005268 ]\n",
      "[0.         0.70710678]\n",
      "[-0.63102545 -0.6005268 ]\n",
      "[ 0.         -0.70710678]\n"
     ]
    }
   ],
   "source": [
    "def W(x_vec):\n",
    "    \"\"\"Takes vector and returns Jacobi matrix of specific shown above function\"\"\"\n",
    "    (x,y) = x_vec\n",
    "    df1dx = y/(np.cos(x * y))**2 - 2*x\n",
    "    df1dy = x/(np.cos(x * y))**2\n",
    "    df2dx = 1.4 * x\n",
    "    df2dy = 4 * y\n",
    "    return np.array([\n",
    "            [df1dx, df1dy],\n",
    "            [df2dx, df2dy]\n",
    "        ])\n",
    "\n",
    "def F(x_vec):\n",
    "    \"\"\"Takes vector x_vec and returns F(x_vec), where F is a vector-function shown above\"\"\"\n",
    "    (x,y) = x_vec\n",
    "    f1 = np.tan(x * y) - x ** 2\n",
    "    f2 = 0.7 * x**2 + 2 * y**2 - 1\n",
    "    return [f1, f2]\n",
    "\n",
    "def newton_method(W, F, starting_value_vec, epsilon=0.00001, print_table=False):\n",
    "    \"\"\"Takes [x0,y0] starting value and returns [x,y] solution of system found by newton method\"\"\"\n",
    "    df = pd.DataFrame({\"x\": [starting_value_vec[0]], \"y\": [starting_value_vec[1]], \"delta\": [\" \"]})\n",
    "    prev_x_vec = list(starting_value_vec)\n",
    "    W_inv_0 = np.linalg.inv(W(prev_x_vec))\n",
    "    iteration = 0\n",
    "    while True:\n",
    "        if iteration > 999:\n",
    "            raise RuntimeError\n",
    "        iteration += 1\n",
    "        # x^k+1 = x^k - W^-1 * F(x^k)\n",
    "        current_x_vec = np.subtract(np.array([prev_x_vec]), W_inv_0 @ F(prev_x_vec))\n",
    "        delta_vec = np.subtract(prev_x_vec, current_x_vec)[0]  # Result of np.subtract is [[delta1...deltan]] so delta_vec is [delta1...deltan]\n",
    "        delta = max([abs(d) for d in delta_vec])\n",
    "        df.loc[iteration] = [current_x_vec[0][0], current_x_vec[0][1], delta]\n",
    "        if delta < epsilon:\n",
    "            if print_table:\n",
    "                print(df.style.to_latex())\n",
    "            return current_x_vec[0]\n",
    "        else:\n",
    "            prev_x_vec = current_x_vec[0]\n",
    "\n",
    "print(newton_method(W, F, [0.6,0.6], print_table=True))\n",
    "print(newton_method(W, F, [0, 0.7]))\n",
    "print(newton_method(W, F, [-0.6,-0.6]))\n",
    "print(newton_method(W, F, [0, -0.7]))"
   ]
  },
  {
   "cell_type": "markdown",
   "metadata": {},
   "source": [
    "Отримали розв'язки (0.63102545, 0.6005268), (0, 0.70710678), (-0.63102545, -0.6005268), (0, -0.70710678).\n",
    "Для розв'язку з початковим наближенням (0.6,0.6) наведемо таблицю:\n",
    "\n",
    "\\begin{array}{cccc}\n",
    "Iter & x & y & $\\Delta$ \\\\\n",
    "0 & 0.600000 & 0.600000 &   \\\\\n",
    "1 & 0.632322 & 0.600354 & 0.032322 \\\\\n",
    "2 & 0.630903 & 0.600546 & 0.001419 \\\\\n",
    "3 & 0.631037 & 0.600525 & 0.000134 \\\\\n",
    "4 & 0.631024 & 0.600527 & 0.000013 \\\\\n",
    "5 & 0.631025 & 0.600527 & 0.000001 \\\\\n",
    "\\end{array}\n",
    "\n",
    "Перевіримо ці розв'зки за допомогою функції fsolve із scipy.optimize та підрахувавши F($\\vec{x}_*$)"
   ]
  },
  {
   "cell_type": "code",
   "execution_count": 191,
   "metadata": {
    "pycharm": {
     "name": "#%%\n"
    }
   },
   "outputs": [
    {
     "name": "stdout",
     "output_type": "stream",
     "text": [
      "SciPy results: [0.63103, 0.60053] [-0.0, 0.70711] [-0.63103, -0.60053] [0.0, -0.70711]\n",
      "Our results: [0.63103, 0.60053] [0.0, 0.70711] [-0.63103, -0.60053] [0.0, -0.70711]\n",
      "[-0.0, 0.0] [0.0, 0.0] [-0.0, 0.0] [-0.0, 0.0]\n"
     ]
    }
   ],
   "source": [
    "scipy_results = [fsolve(F, (0.6, 0.6)), fsolve(F, (0,0.7)), fsolve(F, (-0.6,-0.6)), fsolve(F, (0, -0.7))]\n",
    "scipy_results = [[format_float(num) for num in lst] for lst in scipy_results]   # Formatting results\n",
    "print(\"SciPy results:\", *scipy_results)\n",
    "\n",
    "our_results = [newton_method(W,F, (0.6,0.6)), newton_method(W,F, (0,0.7)), newton_method(W, F, (-0.6,-0.6)), newton_method(W, F, (0,-0.7))]\n",
    "F_x = [F(x_vec) for x_vec in our_results]\n",
    "our_results = [[format_float(num) for num in lst] for lst in our_results]   # Formatting results\n",
    "print(\"Our results:\", *our_results)\n",
    "F_x = [[format_float(num) for num in lst] for lst in F_x]   # Formatting results\n",
    "print(*F_x)"
   ]
  },
  {
   "cell_type": "markdown",
   "metadata": {},
   "source": [
    "Бачимо що із заданою точністю наші розв'язки дорівнюють розв'язкам функції fsolve, та $F(\\vec{x}_*) = \\vec{0}$\n",
    "Спробуємо взяти інші початкові наближення, наприклад (100,200)"
   ]
  },
  {
   "cell_type": "code",
   "execution_count": 192,
   "metadata": {
    "pycharm": {
     "name": "#%%\n"
    }
   },
   "outputs": [
    {
     "name": "stderr",
     "output_type": "stream",
     "text": [
      "/tmp/ipykernel_103363/2585968209.py:16: RuntimeWarning: overflow encountered in double_scalars\n",
      "  f1 = np.tan(x * y) - x ** 2\n",
      "/tmp/ipykernel_103363/2585968209.py:16: RuntimeWarning: invalid value encountered in tan\n",
      "  f1 = np.tan(x * y) - x ** 2\n",
      "/tmp/ipykernel_103363/2585968209.py:17: RuntimeWarning: overflow encountered in double_scalars\n",
      "  f2 = 0.7 * x**2 + 2 * y**2 - 1\n"
     ]
    },
    {
     "name": "stdout",
     "output_type": "stream",
     "text": [
      "Can't find a solution in 999 iterations\n"
     ]
    }
   ],
   "source": [
    "try:\n",
    "    print(newton_method(W, F, [5, 5]))\n",
    "\n",
    "except RuntimeError:\n",
    "    print(\"Can't find a solution in 999 iterations\")"
   ]
  },
  {
   "cell_type": "markdown",
   "metadata": {
    "pycharm": {
     "name": "#%% md\n"
    }
   },
   "source": [
    "Бачимо що при такому початковому наближенні спрощений метод Ньютона не є збіжним"
   ]
  }
 ],
 "metadata": {
  "kernelspec": {
   "display_name": "Python 3 (ipykernel)",
   "language": "python",
   "name": "python3"
  },
  "language_info": {
   "codemirror_mode": {
    "name": "ipython",
    "version": 3
   },
   "file_extension": ".py",
   "mimetype": "text/x-python",
   "name": "python",
   "nbconvert_exporter": "python",
   "pygments_lexer": "ipython3",
   "version": "3.8.10"
  }
 },
 "nbformat": 4,
 "nbformat_minor": 1
}
